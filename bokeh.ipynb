{
 "cells": [
  {
   "cell_type": "code",
   "execution_count": 6,
   "id": "6d14e21a-4fb3-4f32-9c06-2ac335352369",
   "metadata": {},
   "outputs": [],
   "source": [
    "from bokeh.plotting import figure, show"
   ]
  },
  {
   "cell_type": "code",
   "execution_count": 7,
   "id": "b2598854-62b6-4d81-9bcd-e2029faa9b5b",
   "metadata": {},
   "outputs": [],
   "source": [
    "p = figure(title=\"simple line example\", x_axis_label='x', y_axis_label='y')"
   ]
  },
  {
   "cell_type": "code",
   "execution_count": 8,
   "id": "92eb8ac8-842d-461f-96f6-da0b989983da",
   "metadata": {},
   "outputs": [
    {
     "data": {
      "text/html": [
       "<div style=\"display: table;\"><div style=\"display: table-row;\"><div style=\"display: table-cell;\"><b title=\"bokeh.models.renderers.glyph_renderer.GlyphRenderer\">GlyphRenderer</b>(</div><div style=\"display: table-cell;\">id&nbsp;=&nbsp;'p1768', <span id=\"p1787\" style=\"cursor: pointer;\">&hellip;)</span></div></div><div class=\"p1786\" style=\"display: none;\"><div style=\"display: table-cell;\"></div><div style=\"display: table-cell;\">coordinates&nbsp;=&nbsp;None,</div></div><div class=\"p1786\" style=\"display: none;\"><div style=\"display: table-cell;\"></div><div style=\"display: table-cell;\">data_source&nbsp;=&nbsp;ColumnDataSource(id='p1762', ...),</div></div><div class=\"p1786\" style=\"display: none;\"><div style=\"display: table-cell;\"></div><div style=\"display: table-cell;\">glyph&nbsp;=&nbsp;Line(id='p1765', ...),</div></div><div class=\"p1786\" style=\"display: none;\"><div style=\"display: table-cell;\"></div><div style=\"display: table-cell;\">group&nbsp;=&nbsp;None,</div></div><div class=\"p1786\" style=\"display: none;\"><div style=\"display: table-cell;\"></div><div style=\"display: table-cell;\">hover_glyph&nbsp;=&nbsp;None,</div></div><div class=\"p1786\" style=\"display: none;\"><div style=\"display: table-cell;\"></div><div style=\"display: table-cell;\">js_event_callbacks&nbsp;=&nbsp;{},</div></div><div class=\"p1786\" style=\"display: none;\"><div style=\"display: table-cell;\"></div><div style=\"display: table-cell;\">js_property_callbacks&nbsp;=&nbsp;{},</div></div><div class=\"p1786\" style=\"display: none;\"><div style=\"display: table-cell;\"></div><div style=\"display: table-cell;\">level&nbsp;=&nbsp;'glyph',</div></div><div class=\"p1786\" style=\"display: none;\"><div style=\"display: table-cell;\"></div><div style=\"display: table-cell;\">muted&nbsp;=&nbsp;False,</div></div><div class=\"p1786\" style=\"display: none;\"><div style=\"display: table-cell;\"></div><div style=\"display: table-cell;\">muted_glyph&nbsp;=&nbsp;Line(id='p1767', ...),</div></div><div class=\"p1786\" style=\"display: none;\"><div style=\"display: table-cell;\"></div><div style=\"display: table-cell;\">name&nbsp;=&nbsp;None,</div></div><div class=\"p1786\" style=\"display: none;\"><div style=\"display: table-cell;\"></div><div style=\"display: table-cell;\">nonselection_glyph&nbsp;=&nbsp;Line(id='p1766', ...),</div></div><div class=\"p1786\" style=\"display: none;\"><div style=\"display: table-cell;\"></div><div style=\"display: table-cell;\">selection_glyph&nbsp;=&nbsp;'auto',</div></div><div class=\"p1786\" style=\"display: none;\"><div style=\"display: table-cell;\"></div><div style=\"display: table-cell;\">subscribed_events&nbsp;=&nbsp;PropertyValueSet(),</div></div><div class=\"p1786\" style=\"display: none;\"><div style=\"display: table-cell;\"></div><div style=\"display: table-cell;\">syncable&nbsp;=&nbsp;True,</div></div><div class=\"p1786\" style=\"display: none;\"><div style=\"display: table-cell;\"></div><div style=\"display: table-cell;\">tags&nbsp;=&nbsp;[],</div></div><div class=\"p1786\" style=\"display: none;\"><div style=\"display: table-cell;\"></div><div style=\"display: table-cell;\">view&nbsp;=&nbsp;CDSView(id='p1769', ...),</div></div><div class=\"p1786\" style=\"display: none;\"><div style=\"display: table-cell;\"></div><div style=\"display: table-cell;\">visible&nbsp;=&nbsp;True,</div></div><div class=\"p1786\" style=\"display: none;\"><div style=\"display: table-cell;\"></div><div style=\"display: table-cell;\">x_range_name&nbsp;=&nbsp;'default',</div></div><div class=\"p1786\" style=\"display: none;\"><div style=\"display: table-cell;\"></div><div style=\"display: table-cell;\">y_range_name&nbsp;=&nbsp;'default')</div></div></div>\n",
       "<script>\n",
       "(function() {\n",
       "  let expanded = false;\n",
       "  const ellipsis = document.getElementById(\"p1787\");\n",
       "  ellipsis.addEventListener(\"click\", function() {\n",
       "    const rows = document.getElementsByClassName(\"p1786\");\n",
       "    for (let i = 0; i < rows.length; i++) {\n",
       "      const el = rows[i];\n",
       "      el.style.display = expanded ? \"none\" : \"table-row\";\n",
       "    }\n",
       "    ellipsis.innerHTML = expanded ? \"&hellip;)\" : \"&lsaquo;&lsaquo;&lsaquo;\";\n",
       "    expanded = !expanded;\n",
       "  });\n",
       "})();\n",
       "</script>\n"
      ],
      "text/plain": [
       "GlyphRenderer(id='p1768', ...)"
      ]
     },
     "execution_count": 8,
     "metadata": {},
     "output_type": "execute_result"
    }
   ],
   "source": [
    "p.line([1, 2, 3, 4, 5], [6, 7, 2, 4, 5], legend_label=\"Temp.\", line_width=2, line_color=\"blue\")\n"
   ]
  },
  {
   "cell_type": "code",
   "execution_count": 9,
   "id": "2ff2bbae-d0ba-42b0-85ee-179e470477b4",
   "metadata": {},
   "outputs": [],
   "source": [
    "show(p)"
   ]
  },
  {
   "cell_type": "code",
   "execution_count": 10,
   "id": "1d6b0bd1-21fe-4745-9cde-55b6951c2109",
   "metadata": {},
   "outputs": [],
   "source": [
    "from bokeh.plotting import figure, show\n",
    "\n",
    "p = figure(title=\"simple line example\", x_axis_label='x', y_axis_label='y')\n",
    "p.line([1, 2, 3, 4, 5], [6, 7, 2, 4, 5], legend_label=\"Temp.\", line_width=2, line_color=\"blue\")\n",
    "\n",
    "show(p)"
   ]
  },
  {
   "cell_type": "code",
   "execution_count": 11,
   "id": "5ca19a64-01ec-42b4-b4dd-44af458813c6",
   "metadata": {},
   "outputs": [],
   "source": [
    "#Q1. How can you create a Bokeh plot using Python code?\n",
    "from bokeh.plotting import figure, show\n",
    "\n",
    "# Create a figure object\n",
    "p = figure(title=\"simple line example\", x_axis_label='x', y_axis_label='y')\n",
    "\n",
    "# Add glyphs to the figure\n",
    "p.line([1, 2, 3, 4, 5], [6, 7, 2, 4, 5], legend_label=\"Temp.\", line_width=2, line_color=\"blue\")\n",
    "\n",
    "# Show the plot\n",
    "show(p)"
   ]
  },
  {
   "cell_type": "code",
   "execution_count": 12,
   "id": "bf2f8c75-ee58-4ccf-992e-1d6fd78cee19",
   "metadata": {},
   "outputs": [],
   "source": [
    "#Q2. What are glyphs in Bokeh, and how can you add them to a Bokeh plot? Explain with an example.\n",
    "from bokeh.plotting import figure, show\n",
    "\n",
    "# Create a figure object\n",
    "p = figure(title=\"circle example\", x_axis_label='x', y_axis_label='y')\n",
    "\n",
    "# Add a circle glyph to the figure\n",
    "p.circle([1, 2, 3, 4, 5], [6, 7, 2, 4, 5], size=15, line_color=\"navy\", fill_color=\"orange\", fill_alpha=0.5)\n",
    "\n",
    "# Show the plot\n",
    "show(p)"
   ]
  },
  {
   "cell_type": "code",
   "execution_count": 13,
   "id": "053fd7e3-93c5-4d57-a170-bdf76d0aa58d",
   "metadata": {},
   "outputs": [
    {
     "ename": "SyntaxError",
     "evalue": "unterminated string literal (detected at line 8) (4058707329.py, line 8)",
     "output_type": "error",
     "traceback": [
      "\u001b[0;36m  Cell \u001b[0;32mIn[13], line 8\u001b[0;36m\u001b[0m\n\u001b[0;31m    Here's an example:\u001b[0m\n\u001b[0m        ^\u001b[0m\n\u001b[0;31mSyntaxError\u001b[0m\u001b[0;31m:\u001b[0m unterminated string literal (detected at line 8)\n"
     ]
    }
   ],
   "source": [
    "Q3. How can you customize the appearance of a Bokeh plot, including the axes, title, and legend?\n",
    "\n",
    "You can customize the appearance of a Bokeh plot using various options available in the figure object. Here are some examples:\n",
    "\n",
    "To customize the title: p.title.text = \"Custom Title\"\n",
    "To customize the axes: p.xaxis.axis_label = \"Custom X-axis\"; p.yaxis.axis_label = \"Custom Y-axis\"\n",
    "To customize the legend: p.legend.location = \"top_left\"; p.legend.orientation = \"horizontal\"\n",
    "Here's an example:"
   ]
  },
  {
   "cell_type": "code",
   "execution_count": 14,
   "id": "214b9e65-d097-4079-909f-08e85dde57f9",
   "metadata": {},
   "outputs": [],
   "source": [
    "from bokeh.plotting import figure, show\n",
    "\n",
    "# Create a figure object\n",
    "p = figure(title=\"customized plot\", x_axis_label='x', y_axis_label='y')\n",
    "\n",
    "# Add a line glyph to the figure\n",
    "p.line([1, 2, 3, 4, 5], [6, 7, 2, 4, 5], legend_label=\"Temp.\", line_width=2, line_color=\"blue\")\n",
    "\n",
    "# Customize the title\n",
    "p.title.text = \"Customized Plot\"\n",
    "\n",
    "# Customize the axes\n",
    "p.xaxis.axis_label = \"Custom X-axis\"\n",
    "p.yaxis.axis_label = \"Custom Y-axis\"\n",
    "\n",
    "# Customize the legend\n",
    "p.legend.location = \"top_left\"\n",
    "p.legend.orientation = \"horizontal\"\n",
    "\n",
    "# Show the plot\n",
    "show(p)"
   ]
  },
  {
   "cell_type": "code",
   "execution_count": 15,
   "id": "7ab9cd82-db68-43b7-acbe-6d7be7854b7b",
   "metadata": {},
   "outputs": [
    {
     "ename": "SyntaxError",
     "evalue": "unterminated string literal (detected at line 7) (3934109896.py, line 7)",
     "output_type": "error",
     "traceback": [
      "\u001b[0;36m  Cell \u001b[0;32mIn[15], line 7\u001b[0;36m\u001b[0m\n\u001b[0;31m    Here's an example:\u001b[0m\n\u001b[0m        ^\u001b[0m\n\u001b[0;31mSyntaxError\u001b[0m\u001b[0;31m:\u001b[0m unterminated string literal (detected at line 7)\n"
     ]
    }
   ],
   "source": [
    "Q4. What is a Bokeh server, and how can you use it to create interactive plots that can be updated in real time?\n",
    "\n",
    "A Bokeh server is a web application that allows you to create interactive plots that can be updated in real time. You can use the Bokeh server to create plots that respond to user input, such as zooming, panning, and hovering.\n",
    "\n",
    "To use the Bokeh server, you need to create a Bokeh application using the bokeh.io.curdoc() function, and then add your plot to the application using the curdoc().add_root() method.\n",
    "\n",
    "Here's an example:\n",
    "\n",
    "\n"
   ]
  },
  {
   "cell_type": "code",
   "execution_count": 16,
   "id": "e654c47e-9d81-4784-891a-576c591f01f9",
   "metadata": {},
   "outputs": [],
   "source": [
    "from bokeh.io import curdoc\n",
    "from bokeh.plotting import figure\n",
    "from bokeh.layouts import layout\n",
    "\n",
    "# Create a figure object\n",
    "p = figure(title=\"interactive plot\", x_axis_label='x', y_axis_label='y')\n",
    "\n",
    "# Add a line glyph to the figure\n",
    "p.line([1, 2, 3, 4, 5], [6, 7, 2, 4, 5], legend_label=\"Temp.\", line_width=2, line_color=\"blue\")\n",
    "\n",
    "# Create a Bokeh application\n",
    "app = curdoc()\n",
    "\n",
    "# Add the plot to the application\n",
    "app.add_root(layout([[p]]))\n",
    "\n",
    "# Run the application\n",
    "app.title = \"Interactive Plot\""
   ]
  },
  {
   "cell_type": "code",
   "execution_count": 18,
   "id": "ee07a192-d391-4a48-bf7d-94ca919460d2",
   "metadata": {},
   "outputs": [
    {
     "ename": "SyntaxError",
     "evalue": "unterminated string literal (detected at line 7) (2245533370.py, line 7)",
     "output_type": "error",
     "traceback": [
      "\u001b[0;36m  Cell \u001b[0;32mIn[18], line 7\u001b[0;36m\u001b[0m\n\u001b[0;31m    Create a Bokeh plot: Create a Bokeh plot using the figure and show functions from Bokeh's plotting module.\u001b[0m\n\u001b[0m                                                                                           ^\u001b[0m\n\u001b[0;31mSyntaxError\u001b[0m\u001b[0;31m:\u001b[0m unterminated string literal (detected at line 7)\n"
     ]
    }
   ],
   "source": [
    "#Q5. How can you embed a Bokeh plot into a web page or dashboard using Flask or Django?\n",
    "\n",
    "To embed a Bokeh plot into a web page or dashboard using Flask or Django, you can follow these steps:\n",
    "\n",
    "Using Flask:\n",
    "\n",
    "Create a Bokeh plot: Create a Bokeh plot using the figure and show functions from Bokeh's plotting module.\n",
    "Get the HTML components: Use the components function from Bokeh's embed module to get the HTML components for the plot.\n",
    "Create a Flask app: Create a Flask app and define a route for the page that will display the plot.\n",
    "Embed the plot: Use the HTML components to embed the plot into the Flask app's HTML template.\n",
    "Here's an example:\n",
    "\n",
    "\n",
    "Verify\n",
    "Edit\n",
    "Copy code\n",
    "from flask import Flask, render_template\n",
    "from bokeh.plotting import figure\n",
    "from bokeh.embed import components\n",
    "\n",
    "app = Flask(__name__)\n",
    "\n",
    "# Create a Bokeh plot\n",
    "p = figure(title=\"example\", x_axis_label='x', y_axis_label='y')\n",
    "p.line([1, 2, 3, 4, 5], [6, 7, 2, 4, 5], legend_label=\"Temp.\", line_width=2, line_color=\"blue\")\n",
    "\n",
    "# Get the HTML components\n",
    "script, div = components(p)\n",
    "\n",
    "@app.route('/')\n",
    "def index():\n",
    "    return render_template('index.html', script=script, div=div)\n",
    "\n",
    "if __name__ == '__main__':\n",
    "    app.run()\n",
    "index.html:\n",
    "\n",
    "\n",
    "Verify\n",
    "Edit\n",
    "Copy code\n",
    "<!DOCTYPE html>\n",
    "<html>\n",
    "  <head>\n",
    "    <title>Bokeh Plot</title>\n",
    "    {{ script|safe }}\n",
    "  </head>\n",
    "  <body>\n",
    "    {{ div|safe }}\n",
    "  </body>\n",
    "</html>\n",
    "Using Django:\n",
    "\n",
    "Create a Bokeh plot: Create a Bokeh plot using the figure and show functions from Bokeh's plotting module.\n",
    "Get the HTML components: Use the components function from Bokeh's embed module to get the HTML components for the plot.\n",
    "Create a Django view: Create a Django view that returns an HTTP response with the HTML components.\n",
    "Create a Django template: Create a Django template that displays the plot using the HTML components.\n",
    "Here's an example:\n",
    "\n",
    "\n",
    "Verify\n",
    "Edit\n",
    "Copy code\n",
    "# views.py\n",
    "from django.shortcuts import render\n",
    "from bokeh.plotting import figure\n",
    "from bokeh.embed import components\n",
    "\n",
    "def plot_view(request):\n",
    "    p = figure(title=\"example\", x_axis_label='x', y_axis_label='y')\n",
    "    p.line([1, 2, 3, 4, 5], [6, 7, 2, 4, 5\n",
    "Scroll to bottom\n",
    "Stop generating\n"
   ]
  },
  {
   "cell_type": "code",
   "execution_count": null,
   "id": "75824612-104c-44db-b1ed-a26d5ed6e30b",
   "metadata": {},
   "outputs": [
    {
     "name": "stdout",
     "output_type": "stream",
     "text": [
      " * Serving Flask app '__main__'\n",
      " * Debug mode: off\n"
     ]
    },
    {
     "name": "stderr",
     "output_type": "stream",
     "text": [
      "WARNING: This is a development server. Do not use it in a production deployment. Use a production WSGI server instead.\n",
      " * Running on http://127.0.0.1:5000\n",
      "Press CTRL+C to quit\n"
     ]
    }
   ],
   "source": [
    "from flask import Flask, render_template\n",
    "from bokeh.plotting import figure\n",
    "from bokeh.embed import components\n",
    "\n",
    "app = Flask(__name__)\n",
    "\n",
    "# Create a Bokeh plot\n",
    "p = figure(title=\"example\", x_axis_label='x', y_axis_label='y')\n",
    "p.line([1, 2, 3, 4, 5], [6, 7, 2, 4, 5], legend_label=\"Temp.\", line_width=2, line_color=\"blue\")\n",
    "\n",
    "# Get the HTML components\n",
    "script, div = components(p)\n",
    "\n",
    "@app.route('/')\n",
    "def index():\n",
    "    return render_template('index.html', script=script, div=div)\n",
    "\n",
    "if __name__ == '__main__':\n",
    "    app.run()"
   ]
  },
  {
   "cell_type": "code",
   "execution_count": null,
   "id": "2a842ca1-8093-4dcd-b5f9-90d4c71f892b",
   "metadata": {},
   "outputs": [],
   "source": [
    "pip install -U Flask"
   ]
  },
  {
   "cell_type": "code",
   "execution_count": null,
   "id": "26114652-2064-498e-8d97-f168c5f1219c",
   "metadata": {},
   "outputs": [],
   "source": [
    "pip install virtualenv\n",
    "virtualenv venv"
   ]
  },
  {
   "cell_type": "code",
   "execution_count": null,
   "id": "e30a2c42-98db-4f62-ba9a-d36f898b5c94",
   "metadata": {},
   "outputs": [],
   "source": [
    "For Windows: venv\\Scripts\\activate\n",
    "For Linux: source ./venv/bin/activate"
   ]
  },
  {
   "cell_type": "code",
   "execution_count": null,
   "id": "a1a00b3e-ed26-4418-9d5e-c72624a3c9a2",
   "metadata": {},
   "outputs": [],
   "source": []
  }
 ],
 "metadata": {
  "kernelspec": {
   "display_name": "Python 3 (ipykernel)",
   "language": "python",
   "name": "python3"
  },
  "language_info": {
   "codemirror_mode": {
    "name": "ipython",
    "version": 3
   },
   "file_extension": ".py",
   "mimetype": "text/x-python",
   "name": "python",
   "nbconvert_exporter": "python",
   "pygments_lexer": "ipython3",
   "version": "3.10.8"
  }
 },
 "nbformat": 4,
 "nbformat_minor": 5
}
